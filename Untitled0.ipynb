{
  "nbformat": 4,
  "nbformat_minor": 0,
  "metadata": {
    "colab": {
      "name": "Untitled0.ipynb",
      "provenance": [],
      "authorship_tag": "ABX9TyNmr2GuWxtIlh5Vfp1bT2g+",
      "include_colab_link": true
    },
    "kernelspec": {
      "name": "python3",
      "display_name": "Python 3"
    },
    "language_info": {
      "name": "python"
    }
  },
  "cells": [
    {
      "cell_type": "markdown",
      "metadata": {
        "id": "view-in-github",
        "colab_type": "text"
      },
      "source": [
        "<a href=\"https://colab.research.google.com/github/musawenkosikhulu/Aesthetics-and-visualizations/blob/main/Untitled0.ipynb\" target=\"_parent\"><img src=\"https://colab.research.google.com/assets/colab-badge.svg\" alt=\"Open In Colab\"/></a>"
      ]
    },
    {
      "cell_type": "code",
      "metadata": {
        "id": "xYYnsom_xwd4"
      },
      "source": [
        ""
      ],
      "execution_count": 4,
      "outputs": []
    },
    {
      "cell_type": "markdown",
      "metadata": {
        "id": "okjJI0mfxzTT"
      },
      "source": [
        "#Supervised learning\n",
        "This model learns from the information given to it and the information is labelled accordingly. The example for that is weather prediction or fraud detection.\n",
        "\n",
        "#Unsupervised learning \n",
        "This model trains itself to learn about the data given. It tries to understand what information it can get from the data.\n",
        "\n",
        "#Semi-supervised learning\n",
        "This model combines both supervised and unsupervised learning to give a detail outcome while trying to understand what else can the data tell us.\n",
        "\n",
        "#Reinforcement\n",
        "This type of model make bad and good decision while it is rewarded for maximizing the good ones."
      ]
    }
  ]
}