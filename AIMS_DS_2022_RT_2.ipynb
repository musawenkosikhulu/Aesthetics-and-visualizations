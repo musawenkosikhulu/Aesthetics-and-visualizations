{
  "nbformat": 4,
  "nbformat_minor": 0,
  "metadata": {
    "colab": {
      "name": "AIMS_DS_2022_RT_2.ipynb",
      "provenance": [],
      "collapsed_sections": [],
      "include_colab_link": true
    },
    "kernelspec": {
      "name": "python3",
      "display_name": "Python 3"
    },
    "language_info": {
      "name": "python"
    }
  },
  "cells": [
    {
      "cell_type": "markdown",
      "metadata": {
        "id": "view-in-github",
        "colab_type": "text"
      },
      "source": [
        "<a href=\"https://colab.research.google.com/github/musawenkosikhulu/Aesthetics-and-visualizations/blob/main/AIMS_DS_2022_RT_2.ipynb\" target=\"_parent\"><img src=\"https://colab.research.google.com/assets/colab-badge.svg\" alt=\"Open In Colab\"/></a>"
      ]
    },
    {
      "cell_type": "markdown",
      "source": [
        "Monday 3rd Jan 2022\n",
        "\n",
        "Regression tree practical\n",
        "\n",
        "On the left, click on the folder icon and upload the boston.csv file."
      ],
      "metadata": {
        "id": "grppvxVTNUWw"
      }
    },
    {
      "cell_type": "markdown",
      "source": [
        "## Task\n",
        "\n",
        "Create a regression tree using the boston.csv data. Upload the data. Fill in the blanks accordingly."
      ],
      "metadata": {
        "id": "sl9ewVhiY1p_"
      }
    },
    {
      "cell_type": "code",
      "execution_count": 30,
      "metadata": {
        "id": "HCBlk6_6HTU0"
      },
      "outputs": [],
      "source": [
        "import pandas as pd\n",
        "from sklearn.tree import DecisionTreeRegressor\n",
        "from sklearn.model_selection import train_test_split"
      ]
    },
    {
      "cell_type": "markdown",
      "source": [
        "## Read in the data"
      ],
      "metadata": {
        "id": "D8EOJhluK8u9"
      }
    },
    {
      "cell_type": "code",
      "source": [
        "# load dataset\n",
        "\n",
        "df = pd.read_csv(\"boston.csv\") # to do"
      ],
      "metadata": {
        "id": "ZSRE19RZHgjB"
      },
      "execution_count": 62,
      "outputs": []
    },
    {
      "cell_type": "code",
      "source": [
        "df.head()"
      ],
      "metadata": {
        "id": "1ziNI4jXHngY",
        "outputId": "94a992bd-3b2b-48dc-b6a4-600eb64a87c2",
        "colab": {
          "base_uri": "https://localhost:8080/",
          "height": 204
        }
      },
      "execution_count": 63,
      "outputs": [
        {
          "output_type": "execute_result",
          "data": {
            "text/html": [
              "\n",
              "  <div id=\"df-f4c8142b-b851-423d-bdce-f19d2dfa781f\">\n",
              "    <div class=\"colab-df-container\">\n",
              "      <div>\n",
              "<style scoped>\n",
              "    .dataframe tbody tr th:only-of-type {\n",
              "        vertical-align: middle;\n",
              "    }\n",
              "\n",
              "    .dataframe tbody tr th {\n",
              "        vertical-align: top;\n",
              "    }\n",
              "\n",
              "    .dataframe thead th {\n",
              "        text-align: right;\n",
              "    }\n",
              "</style>\n",
              "<table border=\"1\" class=\"dataframe\">\n",
              "  <thead>\n",
              "    <tr style=\"text-align: right;\">\n",
              "      <th></th>\n",
              "      <th>crim</th>\n",
              "      <th>zn</th>\n",
              "      <th>indus</th>\n",
              "      <th>chas</th>\n",
              "      <th>nox</th>\n",
              "      <th>rm</th>\n",
              "      <th>age</th>\n",
              "      <th>dis</th>\n",
              "      <th>rad</th>\n",
              "      <th>tax</th>\n",
              "      <th>ptratio</th>\n",
              "      <th>b</th>\n",
              "      <th>lstat</th>\n",
              "      <th>medv</th>\n",
              "    </tr>\n",
              "  </thead>\n",
              "  <tbody>\n",
              "    <tr>\n",
              "      <th>0</th>\n",
              "      <td>0.00632</td>\n",
              "      <td>18.0</td>\n",
              "      <td>2.31</td>\n",
              "      <td>0</td>\n",
              "      <td>0.538</td>\n",
              "      <td>6.575</td>\n",
              "      <td>65.2</td>\n",
              "      <td>4.0900</td>\n",
              "      <td>1</td>\n",
              "      <td>296</td>\n",
              "      <td>15.3</td>\n",
              "      <td>396.90</td>\n",
              "      <td>4.98</td>\n",
              "      <td>24.0</td>\n",
              "    </tr>\n",
              "    <tr>\n",
              "      <th>1</th>\n",
              "      <td>0.02731</td>\n",
              "      <td>0.0</td>\n",
              "      <td>7.07</td>\n",
              "      <td>0</td>\n",
              "      <td>0.469</td>\n",
              "      <td>6.421</td>\n",
              "      <td>78.9</td>\n",
              "      <td>4.9671</td>\n",
              "      <td>2</td>\n",
              "      <td>242</td>\n",
              "      <td>17.8</td>\n",
              "      <td>396.90</td>\n",
              "      <td>9.14</td>\n",
              "      <td>21.6</td>\n",
              "    </tr>\n",
              "    <tr>\n",
              "      <th>2</th>\n",
              "      <td>0.02729</td>\n",
              "      <td>0.0</td>\n",
              "      <td>7.07</td>\n",
              "      <td>0</td>\n",
              "      <td>0.469</td>\n",
              "      <td>7.185</td>\n",
              "      <td>61.1</td>\n",
              "      <td>4.9671</td>\n",
              "      <td>2</td>\n",
              "      <td>242</td>\n",
              "      <td>17.8</td>\n",
              "      <td>392.83</td>\n",
              "      <td>4.03</td>\n",
              "      <td>34.7</td>\n",
              "    </tr>\n",
              "    <tr>\n",
              "      <th>3</th>\n",
              "      <td>0.03237</td>\n",
              "      <td>0.0</td>\n",
              "      <td>2.18</td>\n",
              "      <td>0</td>\n",
              "      <td>0.458</td>\n",
              "      <td>6.998</td>\n",
              "      <td>45.8</td>\n",
              "      <td>6.0622</td>\n",
              "      <td>3</td>\n",
              "      <td>222</td>\n",
              "      <td>18.7</td>\n",
              "      <td>394.63</td>\n",
              "      <td>2.94</td>\n",
              "      <td>33.4</td>\n",
              "    </tr>\n",
              "    <tr>\n",
              "      <th>4</th>\n",
              "      <td>0.06905</td>\n",
              "      <td>0.0</td>\n",
              "      <td>2.18</td>\n",
              "      <td>0</td>\n",
              "      <td>0.458</td>\n",
              "      <td>7.147</td>\n",
              "      <td>54.2</td>\n",
              "      <td>6.0622</td>\n",
              "      <td>3</td>\n",
              "      <td>222</td>\n",
              "      <td>18.7</td>\n",
              "      <td>396.90</td>\n",
              "      <td>5.33</td>\n",
              "      <td>36.2</td>\n",
              "    </tr>\n",
              "  </tbody>\n",
              "</table>\n",
              "</div>\n",
              "      <button class=\"colab-df-convert\" onclick=\"convertToInteractive('df-f4c8142b-b851-423d-bdce-f19d2dfa781f')\"\n",
              "              title=\"Convert this dataframe to an interactive table.\"\n",
              "              style=\"display:none;\">\n",
              "        \n",
              "  <svg xmlns=\"http://www.w3.org/2000/svg\" height=\"24px\"viewBox=\"0 0 24 24\"\n",
              "       width=\"24px\">\n",
              "    <path d=\"M0 0h24v24H0V0z\" fill=\"none\"/>\n",
              "    <path d=\"M18.56 5.44l.94 2.06.94-2.06 2.06-.94-2.06-.94-.94-2.06-.94 2.06-2.06.94zm-11 1L8.5 8.5l.94-2.06 2.06-.94-2.06-.94L8.5 2.5l-.94 2.06-2.06.94zm10 10l.94 2.06.94-2.06 2.06-.94-2.06-.94-.94-2.06-.94 2.06-2.06.94z\"/><path d=\"M17.41 7.96l-1.37-1.37c-.4-.4-.92-.59-1.43-.59-.52 0-1.04.2-1.43.59L10.3 9.45l-7.72 7.72c-.78.78-.78 2.05 0 2.83L4 21.41c.39.39.9.59 1.41.59.51 0 1.02-.2 1.41-.59l7.78-7.78 2.81-2.81c.8-.78.8-2.07 0-2.86zM5.41 20L4 18.59l7.72-7.72 1.47 1.35L5.41 20z\"/>\n",
              "  </svg>\n",
              "      </button>\n",
              "      \n",
              "  <style>\n",
              "    .colab-df-container {\n",
              "      display:flex;\n",
              "      flex-wrap:wrap;\n",
              "      gap: 12px;\n",
              "    }\n",
              "\n",
              "    .colab-df-convert {\n",
              "      background-color: #E8F0FE;\n",
              "      border: none;\n",
              "      border-radius: 50%;\n",
              "      cursor: pointer;\n",
              "      display: none;\n",
              "      fill: #1967D2;\n",
              "      height: 32px;\n",
              "      padding: 0 0 0 0;\n",
              "      width: 32px;\n",
              "    }\n",
              "\n",
              "    .colab-df-convert:hover {\n",
              "      background-color: #E2EBFA;\n",
              "      box-shadow: 0px 1px 2px rgba(60, 64, 67, 0.3), 0px 1px 3px 1px rgba(60, 64, 67, 0.15);\n",
              "      fill: #174EA6;\n",
              "    }\n",
              "\n",
              "    [theme=dark] .colab-df-convert {\n",
              "      background-color: #3B4455;\n",
              "      fill: #D2E3FC;\n",
              "    }\n",
              "\n",
              "    [theme=dark] .colab-df-convert:hover {\n",
              "      background-color: #434B5C;\n",
              "      box-shadow: 0px 1px 3px 1px rgba(0, 0, 0, 0.15);\n",
              "      filter: drop-shadow(0px 1px 2px rgba(0, 0, 0, 0.3));\n",
              "      fill: #FFFFFF;\n",
              "    }\n",
              "  </style>\n",
              "\n",
              "      <script>\n",
              "        const buttonEl =\n",
              "          document.querySelector('#df-f4c8142b-b851-423d-bdce-f19d2dfa781f button.colab-df-convert');\n",
              "        buttonEl.style.display =\n",
              "          google.colab.kernel.accessAllowed ? 'block' : 'none';\n",
              "\n",
              "        async function convertToInteractive(key) {\n",
              "          const element = document.querySelector('#df-f4c8142b-b851-423d-bdce-f19d2dfa781f');\n",
              "          const dataTable =\n",
              "            await google.colab.kernel.invokeFunction('convertToInteractive',\n",
              "                                                     [key], {});\n",
              "          if (!dataTable) return;\n",
              "\n",
              "          const docLinkHtml = 'Like what you see? Visit the ' +\n",
              "            '<a target=\"_blank\" href=https://colab.research.google.com/notebooks/data_table.ipynb>data table notebook</a>'\n",
              "            + ' to learn more about interactive tables.';\n",
              "          element.innerHTML = '';\n",
              "          dataTable['output_type'] = 'display_data';\n",
              "          await google.colab.output.renderOutput(dataTable, element);\n",
              "          const docLink = document.createElement('div');\n",
              "          docLink.innerHTML = docLinkHtml;\n",
              "          element.appendChild(docLink);\n",
              "        }\n",
              "      </script>\n",
              "    </div>\n",
              "  </div>\n",
              "  "
            ],
            "text/plain": [
              "      crim    zn  indus  chas    nox  ...  tax  ptratio       b  lstat  medv\n",
              "0  0.00632  18.0   2.31     0  0.538  ...  296     15.3  396.90   4.98  24.0\n",
              "1  0.02731   0.0   7.07     0  0.469  ...  242     17.8  396.90   9.14  21.6\n",
              "2  0.02729   0.0   7.07     0  0.469  ...  242     17.8  392.83   4.03  34.7\n",
              "3  0.03237   0.0   2.18     0  0.458  ...  222     18.7  394.63   2.94  33.4\n",
              "4  0.06905   0.0   2.18     0  0.458  ...  222     18.7  396.90   5.33  36.2\n",
              "\n",
              "[5 rows x 14 columns]"
            ]
          },
          "metadata": {},
          "execution_count": 63
        }
      ]
    },
    {
      "cell_type": "code",
      "source": [
        "df.describe()"
      ],
      "metadata": {
        "id": "APLF9ScoLrbl",
        "outputId": "7466aeb0-52fe-4aa1-8a5d-2528245fed2b",
        "colab": {
          "base_uri": "https://localhost:8080/",
          "height": 217
        }
      },
      "execution_count": 18,
      "outputs": [
        {
          "output_type": "execute_result",
          "data": {
            "text/html": [
              "\n",
              "  <div id=\"df-26adc138-4528-47fe-b66a-4ece1ed333f5\">\n",
              "    <div class=\"colab-df-container\">\n",
              "      <div>\n",
              "<style scoped>\n",
              "    .dataframe tbody tr th:only-of-type {\n",
              "        vertical-align: middle;\n",
              "    }\n",
              "\n",
              "    .dataframe tbody tr th {\n",
              "        vertical-align: top;\n",
              "    }\n",
              "\n",
              "    .dataframe thead th {\n",
              "        text-align: right;\n",
              "    }\n",
              "</style>\n",
              "<table border=\"1\" class=\"dataframe\">\n",
              "  <thead>\n",
              "    <tr style=\"text-align: right;\">\n",
              "      <th></th>\n",
              "      <th>crim</th>\n",
              "      <th>zn</th>\n",
              "      <th>indus</th>\n",
              "      <th>chas</th>\n",
              "      <th>nox</th>\n",
              "      <th>rm</th>\n",
              "      <th>age</th>\n",
              "      <th>dis</th>\n",
              "      <th>rad</th>\n",
              "      <th>tax</th>\n",
              "      <th>ptratio</th>\n",
              "      <th>b</th>\n",
              "      <th>lstat</th>\n",
              "      <th>medv</th>\n",
              "    </tr>\n",
              "  </thead>\n",
              "  <tbody>\n",
              "    <tr>\n",
              "      <th>count</th>\n",
              "      <td>507</td>\n",
              "      <td>507</td>\n",
              "      <td>507</td>\n",
              "      <td>507</td>\n",
              "      <td>507</td>\n",
              "      <td>507</td>\n",
              "      <td>507</td>\n",
              "      <td>507</td>\n",
              "      <td>507</td>\n",
              "      <td>507</td>\n",
              "      <td>507</td>\n",
              "      <td>507</td>\n",
              "      <td>507</td>\n",
              "      <td>507</td>\n",
              "    </tr>\n",
              "    <tr>\n",
              "      <th>unique</th>\n",
              "      <td>505</td>\n",
              "      <td>27</td>\n",
              "      <td>77</td>\n",
              "      <td>3</td>\n",
              "      <td>82</td>\n",
              "      <td>447</td>\n",
              "      <td>357</td>\n",
              "      <td>413</td>\n",
              "      <td>10</td>\n",
              "      <td>67</td>\n",
              "      <td>47</td>\n",
              "      <td>358</td>\n",
              "      <td>456</td>\n",
              "      <td>230</td>\n",
              "    </tr>\n",
              "    <tr>\n",
              "      <th>top</th>\n",
              "      <td>14.3337</td>\n",
              "      <td>0</td>\n",
              "      <td>18.1</td>\n",
              "      <td>0</td>\n",
              "      <td>0.538</td>\n",
              "      <td>6.167</td>\n",
              "      <td>100</td>\n",
              "      <td>3.4952</td>\n",
              "      <td>24</td>\n",
              "      <td>666</td>\n",
              "      <td>20.2</td>\n",
              "      <td>396.9</td>\n",
              "      <td>14.1</td>\n",
              "      <td>50</td>\n",
              "    </tr>\n",
              "    <tr>\n",
              "      <th>freq</th>\n",
              "      <td>2</td>\n",
              "      <td>372</td>\n",
              "      <td>132</td>\n",
              "      <td>471</td>\n",
              "      <td>23</td>\n",
              "      <td>3</td>\n",
              "      <td>43</td>\n",
              "      <td>5</td>\n",
              "      <td>132</td>\n",
              "      <td>132</td>\n",
              "      <td>140</td>\n",
              "      <td>121</td>\n",
              "      <td>3</td>\n",
              "      <td>16</td>\n",
              "    </tr>\n",
              "  </tbody>\n",
              "</table>\n",
              "</div>\n",
              "      <button class=\"colab-df-convert\" onclick=\"convertToInteractive('df-26adc138-4528-47fe-b66a-4ece1ed333f5')\"\n",
              "              title=\"Convert this dataframe to an interactive table.\"\n",
              "              style=\"display:none;\">\n",
              "        \n",
              "  <svg xmlns=\"http://www.w3.org/2000/svg\" height=\"24px\"viewBox=\"0 0 24 24\"\n",
              "       width=\"24px\">\n",
              "    <path d=\"M0 0h24v24H0V0z\" fill=\"none\"/>\n",
              "    <path d=\"M18.56 5.44l.94 2.06.94-2.06 2.06-.94-2.06-.94-.94-2.06-.94 2.06-2.06.94zm-11 1L8.5 8.5l.94-2.06 2.06-.94-2.06-.94L8.5 2.5l-.94 2.06-2.06.94zm10 10l.94 2.06.94-2.06 2.06-.94-2.06-.94-.94-2.06-.94 2.06-2.06.94z\"/><path d=\"M17.41 7.96l-1.37-1.37c-.4-.4-.92-.59-1.43-.59-.52 0-1.04.2-1.43.59L10.3 9.45l-7.72 7.72c-.78.78-.78 2.05 0 2.83L4 21.41c.39.39.9.59 1.41.59.51 0 1.02-.2 1.41-.59l7.78-7.78 2.81-2.81c.8-.78.8-2.07 0-2.86zM5.41 20L4 18.59l7.72-7.72 1.47 1.35L5.41 20z\"/>\n",
              "  </svg>\n",
              "      </button>\n",
              "      \n",
              "  <style>\n",
              "    .colab-df-container {\n",
              "      display:flex;\n",
              "      flex-wrap:wrap;\n",
              "      gap: 12px;\n",
              "    }\n",
              "\n",
              "    .colab-df-convert {\n",
              "      background-color: #E8F0FE;\n",
              "      border: none;\n",
              "      border-radius: 50%;\n",
              "      cursor: pointer;\n",
              "      display: none;\n",
              "      fill: #1967D2;\n",
              "      height: 32px;\n",
              "      padding: 0 0 0 0;\n",
              "      width: 32px;\n",
              "    }\n",
              "\n",
              "    .colab-df-convert:hover {\n",
              "      background-color: #E2EBFA;\n",
              "      box-shadow: 0px 1px 2px rgba(60, 64, 67, 0.3), 0px 1px 3px 1px rgba(60, 64, 67, 0.15);\n",
              "      fill: #174EA6;\n",
              "    }\n",
              "\n",
              "    [theme=dark] .colab-df-convert {\n",
              "      background-color: #3B4455;\n",
              "      fill: #D2E3FC;\n",
              "    }\n",
              "\n",
              "    [theme=dark] .colab-df-convert:hover {\n",
              "      background-color: #434B5C;\n",
              "      box-shadow: 0px 1px 3px 1px rgba(0, 0, 0, 0.15);\n",
              "      filter: drop-shadow(0px 1px 2px rgba(0, 0, 0, 0.3));\n",
              "      fill: #FFFFFF;\n",
              "    }\n",
              "  </style>\n",
              "\n",
              "      <script>\n",
              "        const buttonEl =\n",
              "          document.querySelector('#df-26adc138-4528-47fe-b66a-4ece1ed333f5 button.colab-df-convert');\n",
              "        buttonEl.style.display =\n",
              "          google.colab.kernel.accessAllowed ? 'block' : 'none';\n",
              "\n",
              "        async function convertToInteractive(key) {\n",
              "          const element = document.querySelector('#df-26adc138-4528-47fe-b66a-4ece1ed333f5');\n",
              "          const dataTable =\n",
              "            await google.colab.kernel.invokeFunction('convertToInteractive',\n",
              "                                                     [key], {});\n",
              "          if (!dataTable) return;\n",
              "\n",
              "          const docLinkHtml = 'Like what you see? Visit the ' +\n",
              "            '<a target=\"_blank\" href=https://colab.research.google.com/notebooks/data_table.ipynb>data table notebook</a>'\n",
              "            + ' to learn more about interactive tables.';\n",
              "          element.innerHTML = '';\n",
              "          dataTable['output_type'] = 'display_data';\n",
              "          await google.colab.output.renderOutput(dataTable, element);\n",
              "          const docLink = document.createElement('div');\n",
              "          docLink.innerHTML = docLinkHtml;\n",
              "          element.appendChild(docLink);\n",
              "        }\n",
              "      </script>\n",
              "    </div>\n",
              "  </div>\n",
              "  "
            ],
            "text/plain": [
              "           crim   zn indus chas    nox  ...  tax ptratio      b lstat medv\n",
              "count       507  507   507  507    507  ...  507     507    507   507  507\n",
              "unique      505   27    77    3     82  ...   67      47    358   456  230\n",
              "top     14.3337    0  18.1    0  0.538  ...  666    20.2  396.9  14.1   50\n",
              "freq          2  372   132  471     23  ...  132     140    121     3   16\n",
              "\n",
              "[4 rows x 14 columns]"
            ]
          },
          "metadata": {},
          "execution_count": 18
        }
      ]
    },
    {
      "cell_type": "code",
      "source": [
        "from google.colab import drive\n",
        "drive.mount('/content/drive')"
      ],
      "metadata": {
        "id": "_56x5j5NiDtp",
        "outputId": "5370ba2c-ed35-4d05-bbaf-25f439e77a28",
        "colab": {
          "base_uri": "https://localhost:8080/"
        }
      },
      "execution_count": 19,
      "outputs": [
        {
          "output_type": "stream",
          "name": "stdout",
          "text": [
            "Mounted at /content/drive\n"
          ]
        }
      ]
    },
    {
      "cell_type": "markdown",
      "source": [
        "Print the number of rows in the dataset.\n",
        "Expected value is 506"
      ],
      "metadata": {
        "id": "h4Bk2Go8Zqew"
      }
    },
    {
      "cell_type": "code",
      "source": [
        "#to do\n",
        "len(df)"
      ],
      "metadata": {
        "id": "qEtUFVCvL2Eh",
        "outputId": "d3551b36-11bf-432b-ef2d-836b27b9c4ce",
        "colab": {
          "base_uri": "https://localhost:8080/"
        }
      },
      "execution_count": 20,
      "outputs": [
        {
          "output_type": "execute_result",
          "data": {
            "text/plain": [
              "507"
            ]
          },
          "metadata": {},
          "execution_count": 20
        }
      ]
    },
    {
      "cell_type": "markdown",
      "source": [
        "## Create X and y variables (features and target)"
      ],
      "metadata": {
        "id": "DbVUs2dkK-mW"
      }
    },
    {
      "cell_type": "code",
      "source": [
        "feature_cols = ['crim', 'zn', 'indus', 'chas', 'nox', 'rm', 'age', 'dis', 'rad', 'tax', 'ptratio', 'b', 'lstat']\n",
        "X = df[feature_cols] # Features\n",
        "y = df.medv"
      ],
      "metadata": {
        "id": "wadXLfqrHp1i"
      },
      "execution_count": 65,
      "outputs": []
    },
    {
      "cell_type": "markdown",
      "source": [
        "## Split data into training and testing"
      ],
      "metadata": {
        "id": "l1fPgVI8LBq9"
      }
    },
    {
      "cell_type": "code",
      "source": [
        "# Set 30% of the data for testing\n",
        "X_train, X_test, y_train, y_test =  train_test_split(X, y, test_size=0.3, random_state=1) #to do"
      ],
      "metadata": {
        "id": "209hHS_CHx2q"
      },
      "execution_count": 66,
      "outputs": []
    },
    {
      "cell_type": "markdown",
      "source": [
        "## Whenever you do some data manipulation, you should always check the resulting data"
      ],
      "metadata": {
        "id": "Eqwp2fkKLNzE"
      }
    },
    {
      "cell_type": "markdown",
      "source": [
        "Get the shape of the training features.\n",
        "Expected value is (354, 13)"
      ],
      "metadata": {
        "id": "iOQo6TMSZy6k"
      }
    },
    {
      "cell_type": "code",
      "source": [
        "X_train.shape#to do"
      ],
      "metadata": {
        "id": "dEyTA91aLERp",
        "outputId": "77182833-3315-4d7b-8c87-b957446abf95",
        "colab": {
          "base_uri": "https://localhost:8080/"
        }
      },
      "execution_count": 67,
      "outputs": [
        {
          "output_type": "execute_result",
          "data": {
            "text/plain": [
              "(354, 13)"
            ]
          },
          "metadata": {},
          "execution_count": 67
        }
      ]
    },
    {
      "cell_type": "markdown",
      "source": [
        "Get the shape of the training targets.\n",
        "Expected value is (354,)"
      ],
      "metadata": {
        "id": "a9d257RQZ55S"
      }
    },
    {
      "cell_type": "code",
      "source": [
        "y_train.shape #to do"
      ],
      "metadata": {
        "id": "bOJwXH6DLJR9",
        "outputId": "d313dbf8-241a-4c08-e803-9b8157802818",
        "colab": {
          "base_uri": "https://localhost:8080/"
        }
      },
      "execution_count": 68,
      "outputs": [
        {
          "output_type": "execute_result",
          "data": {
            "text/plain": [
              "(354,)"
            ]
          },
          "metadata": {},
          "execution_count": 68
        }
      ]
    },
    {
      "cell_type": "markdown",
      "source": [
        "Get the shape of the testing features.\n",
        "Expected value is (152, 13)"
      ],
      "metadata": {
        "id": "o-7vnduOZ8Os"
      }
    },
    {
      "cell_type": "code",
      "source": [
        "X_test.shape #to do"
      ],
      "metadata": {
        "id": "Ewkui1R_LJZR",
        "outputId": "da93e0cd-bc8e-4371-d386-7d9216a63274",
        "colab": {
          "base_uri": "https://localhost:8080/"
        }
      },
      "execution_count": 69,
      "outputs": [
        {
          "output_type": "execute_result",
          "data": {
            "text/plain": [
              "(152, 13)"
            ]
          },
          "metadata": {},
          "execution_count": 69
        }
      ]
    },
    {
      "cell_type": "markdown",
      "source": [
        "Get the shape of the testing targets.\n",
        "Expected value is (152,)"
      ],
      "metadata": {
        "id": "q5WYDfQCZ-dZ"
      }
    },
    {
      "cell_type": "code",
      "source": [
        "y_test.shape #to do"
      ],
      "metadata": {
        "id": "QdKVREAKLJjs",
        "outputId": "0df9c2f1-01a8-4faf-a103-daf9d640f0e7",
        "colab": {
          "base_uri": "https://localhost:8080/"
        }
      },
      "execution_count": 70,
      "outputs": [
        {
          "output_type": "execute_result",
          "data": {
            "text/plain": [
              "(152,)"
            ]
          },
          "metadata": {},
          "execution_count": 70
        }
      ]
    },
    {
      "cell_type": "markdown",
      "source": [
        "## Use scikit-learn to create the regression tree classifier.\n",
        "\n",
        "API: https://scikit-learn.org/stable/modules/generated/sklearn.tree.DecisionTreeRegressor.html"
      ],
      "metadata": {
        "id": "3gECwIxpLVdq"
      }
    },
    {
      "cell_type": "code",
      "source": [
        "# Create regression tree classifier using the mean squared error criterion \n",
        "# and set a maximum depth of 3\n",
        "reg_tree = DecisionTreeRegressor(criterion=\"squared_error\",max_depth = 3,random_state=1)#to do\n",
        "\n",
        "# Train Decision Tree Classifer on the training data\n",
        "reg_tree = reg_tree.fit(X_train,y_train)\n",
        "\n",
        "#Predict the targets for test dataset\n",
        "y_pred = reg_tree.predict(X_test)#to do"
      ],
      "metadata": {
        "id": "MRk-lBnLH0q2"
      },
      "execution_count": 73,
      "outputs": []
    },
    {
      "cell_type": "markdown",
      "source": [
        "## Evaluate on testing data"
      ],
      "metadata": {
        "id": "WaBF_Q3BLaJ8"
      }
    },
    {
      "cell_type": "code",
      "source": [
        "# Compare the model predictions to the true values on the test data\n",
        "# use the mean squared error metric from scikit learn which you will have to import too!\n",
        "from sklearn.metrics import mean_squared_error\n",
        "\n",
        "print(\"mean squared error metric:\",mean_squared_error(y_test, y_pred)) #to do"
      ],
      "metadata": {
        "id": "tMrQIRNZH2b5",
        "outputId": "8771f6d1-17e5-4c96-9f50-61feb30d60c4",
        "colab": {
          "base_uri": "https://localhost:8080/"
        }
      },
      "execution_count": 77,
      "outputs": [
        {
          "output_type": "stream",
          "name": "stdout",
          "text": [
            "mean squared error metric: 27.86737967241263\n"
          ]
        }
      ]
    },
    {
      "cell_type": "markdown",
      "source": [
        "## Visualise the decision tree"
      ],
      "metadata": {
        "id": "TBEyFs57Lj8T"
      }
    },
    {
      "cell_type": "code",
      "source": [
        "import graphviz\n",
        "from sklearn import tree\n",
        "dot_data = tree.export_graphviz(reg_tree, out_file=None, \n",
        "                                feature_names=feature_cols,  \n",
        "                                class_names=['0', '1'],\n",
        "                                filled=True)\n",
        "\n",
        "# Draw graph\n",
        "graph = graphviz.Source(dot_data, format=\"png\") \n",
        "graph"
      ],
      "metadata": {
        "id": "FWM7PR5vH5I1",
        "outputId": "8387cffe-8f0a-46c1-d7a2-37b70ef51beb",
        "colab": {
          "base_uri": "https://localhost:8080/",
          "height": 538
        }
      },
      "execution_count": 78,
      "outputs": [
        {
          "output_type": "execute_result",
          "data": {
            "text/plain": [
              "<graphviz.files.Source at 0x7fdbc2659bd0>"
            ],
            "image/svg+xml": "<?xml version=\"1.0\" encoding=\"UTF-8\" standalone=\"no\"?>\n<!DOCTYPE svg PUBLIC \"-//W3C//DTD SVG 1.1//EN\"\n \"http://www.w3.org/Graphics/SVG/1.1/DTD/svg11.dtd\">\n<!-- Generated by graphviz version 2.40.1 (20161225.0304)\n -->\n<!-- Title: Tree Pages: 1 -->\n<svg width=\"1422pt\" height=\"373pt\"\n viewBox=\"0.00 0.00 1421.50 373.00\" xmlns=\"http://www.w3.org/2000/svg\" xmlns:xlink=\"http://www.w3.org/1999/xlink\">\n<g id=\"graph0\" class=\"graph\" transform=\"scale(1 1) rotate(0) translate(4 369)\">\n<title>Tree</title>\n<polygon fill=\"#ffffff\" stroke=\"transparent\" points=\"-4,4 -4,-369 1417.5,-369 1417.5,4 -4,4\"/>\n<!-- 0 -->\n<g id=\"node1\" class=\"node\">\n<title>0</title>\n<polygon fill=\"#f7dac5\" stroke=\"#000000\" points=\"770.5,-365 601.5,-365 601.5,-297 770.5,-297 770.5,-365\"/>\n<text text-anchor=\"middle\" x=\"686\" y=\"-349.8\" font-family=\"Helvetica,sans-Serif\" font-size=\"14.00\" fill=\"#000000\">lstat &lt;= 9.545</text>\n<text text-anchor=\"middle\" x=\"686\" y=\"-334.8\" font-family=\"Helvetica,sans-Serif\" font-size=\"14.00\" fill=\"#000000\">squared_error = 81.189</text>\n<text text-anchor=\"middle\" x=\"686\" y=\"-319.8\" font-family=\"Helvetica,sans-Serif\" font-size=\"14.00\" fill=\"#000000\">samples = 354</text>\n<text text-anchor=\"middle\" x=\"686\" y=\"-304.8\" font-family=\"Helvetica,sans-Serif\" font-size=\"14.00\" fill=\"#000000\">value = 22.34</text>\n</g>\n<!-- 1 -->\n<g id=\"node2\" class=\"node\">\n<title>1</title>\n<polygon fill=\"#f2c19e\" stroke=\"#000000\" points=\"597.5,-261 428.5,-261 428.5,-193 597.5,-193 597.5,-261\"/>\n<text text-anchor=\"middle\" x=\"513\" y=\"-245.8\" font-family=\"Helvetica,sans-Serif\" font-size=\"14.00\" fill=\"#000000\">rm &lt;= 7.435</text>\n<text text-anchor=\"middle\" x=\"513\" y=\"-230.8\" font-family=\"Helvetica,sans-Serif\" font-size=\"14.00\" fill=\"#000000\">squared_error = 78.714</text>\n<text text-anchor=\"middle\" x=\"513\" y=\"-215.8\" font-family=\"Helvetica,sans-Serif\" font-size=\"14.00\" fill=\"#000000\">samples = 136</text>\n<text text-anchor=\"middle\" x=\"513\" y=\"-200.8\" font-family=\"Helvetica,sans-Serif\" font-size=\"14.00\" fill=\"#000000\">value = 29.99</text>\n</g>\n<!-- 0&#45;&gt;1 -->\n<g id=\"edge1\" class=\"edge\">\n<title>0&#45;&gt;1</title>\n<path fill=\"none\" stroke=\"#000000\" d=\"M629.3533,-296.9465C613.0737,-287.1599 595.186,-276.4066 578.423,-266.3294\"/>\n<polygon fill=\"#000000\" stroke=\"#000000\" points=\"580.1478,-263.2826 569.7739,-261.13 576.5412,-269.282 580.1478,-263.2826\"/>\n<text text-anchor=\"middle\" x=\"575.8167\" y=\"-281.6887\" font-family=\"Helvetica,sans-Serif\" font-size=\"14.00\" fill=\"#000000\">True</text>\n</g>\n<!-- 8 -->\n<g id=\"node9\" class=\"node\">\n<title>8</title>\n<polygon fill=\"#fbe9dd\" stroke=\"#000000\" points=\"955.5,-261 786.5,-261 786.5,-193 955.5,-193 955.5,-261\"/>\n<text text-anchor=\"middle\" x=\"871\" y=\"-245.8\" font-family=\"Helvetica,sans-Serif\" font-size=\"14.00\" fill=\"#000000\">lstat &lt;= 19.26</text>\n<text text-anchor=\"middle\" x=\"871\" y=\"-230.8\" font-family=\"Helvetica,sans-Serif\" font-size=\"14.00\" fill=\"#000000\">squared_error = 23.449</text>\n<text text-anchor=\"middle\" x=\"871\" y=\"-215.8\" font-family=\"Helvetica,sans-Serif\" font-size=\"14.00\" fill=\"#000000\">samples = 218</text>\n<text text-anchor=\"middle\" x=\"871\" y=\"-200.8\" font-family=\"Helvetica,sans-Serif\" font-size=\"14.00\" fill=\"#000000\">value = 17.567</text>\n</g>\n<!-- 0&#45;&gt;8 -->\n<g id=\"edge8\" class=\"edge\">\n<title>0&#45;&gt;8</title>\n<path fill=\"none\" stroke=\"#000000\" d=\"M746.5759,-296.9465C764.1445,-287.0701 783.4643,-276.2093 801.5321,-266.0522\"/>\n<polygon fill=\"#000000\" stroke=\"#000000\" points=\"803.2861,-269.0814 810.288,-261.13 799.8558,-262.9795 803.2861,-269.0814\"/>\n<text text-anchor=\"middle\" x=\"803.5411\" y=\"-281.5024\" font-family=\"Helvetica,sans-Serif\" font-size=\"14.00\" fill=\"#000000\">False</text>\n</g>\n<!-- 2 -->\n<g id=\"node3\" class=\"node\">\n<title>2</title>\n<polygon fill=\"#f4c9aa\" stroke=\"#000000\" points=\"331.5,-157 162.5,-157 162.5,-89 331.5,-89 331.5,-157\"/>\n<text text-anchor=\"middle\" x=\"247\" y=\"-141.8\" font-family=\"Helvetica,sans-Serif\" font-size=\"14.00\" fill=\"#000000\">dis &lt;= 1.485</text>\n<text text-anchor=\"middle\" x=\"247\" y=\"-126.8\" font-family=\"Helvetica,sans-Serif\" font-size=\"14.00\" fill=\"#000000\">squared_error = 45.062</text>\n<text text-anchor=\"middle\" x=\"247\" y=\"-111.8\" font-family=\"Helvetica,sans-Serif\" font-size=\"14.00\" fill=\"#000000\">samples = 117</text>\n<text text-anchor=\"middle\" x=\"247\" y=\"-96.8\" font-family=\"Helvetica,sans-Serif\" font-size=\"14.00\" fill=\"#000000\">value = 27.666</text>\n</g>\n<!-- 1&#45;&gt;2 -->\n<g id=\"edge2\" class=\"edge\">\n<title>1&#45;&gt;2</title>\n<path fill=\"none\" stroke=\"#000000\" d=\"M428.4705,-193.9509C400.7252,-183.1031 369.7198,-170.9807 341.2974,-159.8682\"/>\n<polygon fill=\"#000000\" stroke=\"#000000\" points=\"342.354,-156.5233 331.766,-156.1416 339.805,-163.0427 342.354,-156.5233\"/>\n</g>\n<!-- 5 -->\n<g id=\"node6\" class=\"node\">\n<title>5</title>\n<polygon fill=\"#e99356\" stroke=\"#000000\" points=\"589,-157 437,-157 437,-89 589,-89 589,-157\"/>\n<text text-anchor=\"middle\" x=\"513\" y=\"-141.8\" font-family=\"Helvetica,sans-Serif\" font-size=\"14.00\" fill=\"#000000\">rm &lt;= 8.589</text>\n<text text-anchor=\"middle\" x=\"513\" y=\"-126.8\" font-family=\"Helvetica,sans-Serif\" font-size=\"14.00\" fill=\"#000000\">squared_error = 47.9</text>\n<text text-anchor=\"middle\" x=\"513\" y=\"-111.8\" font-family=\"Helvetica,sans-Serif\" font-size=\"14.00\" fill=\"#000000\">samples = 19</text>\n<text text-anchor=\"middle\" x=\"513\" y=\"-96.8\" font-family=\"Helvetica,sans-Serif\" font-size=\"14.00\" fill=\"#000000\">value = 44.3</text>\n</g>\n<!-- 1&#45;&gt;5 -->\n<g id=\"edge5\" class=\"edge\">\n<title>1&#45;&gt;5</title>\n<path fill=\"none\" stroke=\"#000000\" d=\"M513,-192.9465C513,-184.776 513,-175.9318 513,-167.3697\"/>\n<polygon fill=\"#000000\" stroke=\"#000000\" points=\"516.5001,-167.13 513,-157.13 509.5001,-167.13 516.5001,-167.13\"/>\n</g>\n<!-- 3 -->\n<g id=\"node4\" class=\"node\">\n<title>3</title>\n<polygon fill=\"#e58139\" stroke=\"#000000\" points=\"144,-53 0,-53 0,0 144,0 144,-53\"/>\n<text text-anchor=\"middle\" x=\"72\" y=\"-37.8\" font-family=\"Helvetica,sans-Serif\" font-size=\"14.00\" fill=\"#000000\">squared_error = 0.0</text>\n<text text-anchor=\"middle\" x=\"72\" y=\"-22.8\" font-family=\"Helvetica,sans-Serif\" font-size=\"14.00\" fill=\"#000000\">samples = 4</text>\n<text text-anchor=\"middle\" x=\"72\" y=\"-7.8\" font-family=\"Helvetica,sans-Serif\" font-size=\"14.00\" fill=\"#000000\">value = 50.0</text>\n</g>\n<!-- 2&#45;&gt;3 -->\n<g id=\"edge3\" class=\"edge\">\n<title>2&#45;&gt;3</title>\n<path fill=\"none\" stroke=\"#000000\" d=\"M185.3015,-88.9777C167.1173,-78.9504 147.3003,-68.0228 129.3979,-58.1508\"/>\n<polygon fill=\"#000000\" stroke=\"#000000\" points=\"130.6763,-54.859 120.2293,-53.095 127.2961,-60.9888 130.6763,-54.859\"/>\n</g>\n<!-- 4 -->\n<g id=\"node5\" class=\"node\">\n<title>4</title>\n<polygon fill=\"#f4ccae\" stroke=\"#000000\" points=\"331.5,-53 162.5,-53 162.5,0 331.5,0 331.5,-53\"/>\n<text text-anchor=\"middle\" x=\"247\" y=\"-37.8\" font-family=\"Helvetica,sans-Serif\" font-size=\"14.00\" fill=\"#000000\">squared_error = 28.375</text>\n<text text-anchor=\"middle\" x=\"247\" y=\"-22.8\" font-family=\"Helvetica,sans-Serif\" font-size=\"14.00\" fill=\"#000000\">samples = 113</text>\n<text text-anchor=\"middle\" x=\"247\" y=\"-7.8\" font-family=\"Helvetica,sans-Serif\" font-size=\"14.00\" fill=\"#000000\">value = 26.875</text>\n</g>\n<!-- 2&#45;&gt;4 -->\n<g id=\"edge4\" class=\"edge\">\n<title>2&#45;&gt;4</title>\n<path fill=\"none\" stroke=\"#000000\" d=\"M247,-88.9777C247,-80.7364 247,-71.887 247,-63.5153\"/>\n<polygon fill=\"#000000\" stroke=\"#000000\" points=\"250.5001,-63.2484 247,-53.2485 243.5001,-63.2485 250.5001,-63.2484\"/>\n</g>\n<!-- 6 -->\n<g id=\"node7\" class=\"node\">\n<title>6</title>\n<polygon fill=\"#e88f50\" stroke=\"#000000\" points=\"518.5,-53 349.5,-53 349.5,0 518.5,0 518.5,-53\"/>\n<text text-anchor=\"middle\" x=\"434\" y=\"-37.8\" font-family=\"Helvetica,sans-Serif\" font-size=\"14.00\" fill=\"#000000\">squared_error = 21.137</text>\n<text text-anchor=\"middle\" x=\"434\" y=\"-22.8\" font-family=\"Helvetica,sans-Serif\" font-size=\"14.00\" fill=\"#000000\">samples = 18</text>\n<text text-anchor=\"middle\" x=\"434\" y=\"-7.8\" font-family=\"Helvetica,sans-Serif\" font-size=\"14.00\" fill=\"#000000\">value = 45.544</text>\n</g>\n<!-- 5&#45;&gt;6 -->\n<g id=\"edge6\" class=\"edge\">\n<title>5&#45;&gt;6</title>\n<path fill=\"none\" stroke=\"#000000\" d=\"M485.1476,-88.9777C477.7261,-79.9123 469.7023,-70.111 462.2593,-61.0192\"/>\n<polygon fill=\"#000000\" stroke=\"#000000\" points=\"464.9405,-58.7692 455.8977,-53.2485 459.5241,-63.2034 464.9405,-58.7692\"/>\n</g>\n<!-- 7 -->\n<g id=\"node8\" class=\"node\">\n<title>7</title>\n<polygon fill=\"#f8dcc7\" stroke=\"#000000\" points=\"681,-53 537,-53 537,0 681,0 681,-53\"/>\n<text text-anchor=\"middle\" x=\"609\" y=\"-37.8\" font-family=\"Helvetica,sans-Serif\" font-size=\"14.00\" fill=\"#000000\">squared_error = 0.0</text>\n<text text-anchor=\"middle\" x=\"609\" y=\"-22.8\" font-family=\"Helvetica,sans-Serif\" font-size=\"14.00\" fill=\"#000000\">samples = 1</text>\n<text text-anchor=\"middle\" x=\"609\" y=\"-7.8\" font-family=\"Helvetica,sans-Serif\" font-size=\"14.00\" fill=\"#000000\">value = 21.9</text>\n</g>\n<!-- 5&#45;&gt;7 -->\n<g id=\"edge7\" class=\"edge\">\n<title>5&#45;&gt;7</title>\n<path fill=\"none\" stroke=\"#000000\" d=\"M546.846,-88.9777C556.0466,-79.7292 566.0092,-69.7147 575.2069,-60.4691\"/>\n<polygon fill=\"#000000\" stroke=\"#000000\" points=\"577.8187,-62.8064 582.3901,-53.2485 572.8561,-57.8695 577.8187,-62.8064\"/>\n</g>\n<!-- 9 -->\n<g id=\"node10\" class=\"node\">\n<title>9</title>\n<polygon fill=\"#f9e3d4\" stroke=\"#000000\" points=\"955.5,-157 786.5,-157 786.5,-89 955.5,-89 955.5,-157\"/>\n<text text-anchor=\"middle\" x=\"871\" y=\"-141.8\" font-family=\"Helvetica,sans-Serif\" font-size=\"14.00\" fill=\"#000000\">lstat &lt;= 14.795</text>\n<text text-anchor=\"middle\" x=\"871\" y=\"-126.8\" font-family=\"Helvetica,sans-Serif\" font-size=\"14.00\" fill=\"#000000\">squared_error = 12.711</text>\n<text text-anchor=\"middle\" x=\"871\" y=\"-111.8\" font-family=\"Helvetica,sans-Serif\" font-size=\"14.00\" fill=\"#000000\">samples = 157</text>\n<text text-anchor=\"middle\" x=\"871\" y=\"-96.8\" font-family=\"Helvetica,sans-Serif\" font-size=\"14.00\" fill=\"#000000\">value = 19.44</text>\n</g>\n<!-- 8&#45;&gt;9 -->\n<g id=\"edge9\" class=\"edge\">\n<title>8&#45;&gt;9</title>\n<path fill=\"none\" stroke=\"#000000\" d=\"M871,-192.9465C871,-184.776 871,-175.9318 871,-167.3697\"/>\n<polygon fill=\"#000000\" stroke=\"#000000\" points=\"874.5001,-167.13 871,-157.13 867.5001,-167.13 874.5001,-167.13\"/>\n</g>\n<!-- 12 -->\n<g id=\"node13\" class=\"node\">\n<title>12</title>\n<polygon fill=\"#fef9f6\" stroke=\"#000000\" points=\"1234.5,-157 1065.5,-157 1065.5,-89 1234.5,-89 1234.5,-157\"/>\n<text text-anchor=\"middle\" x=\"1150\" y=\"-141.8\" font-family=\"Helvetica,sans-Serif\" font-size=\"14.00\" fill=\"#000000\">nox &lt;= 0.603</text>\n<text text-anchor=\"middle\" x=\"1150\" y=\"-126.8\" font-family=\"Helvetica,sans-Serif\" font-size=\"14.00\" fill=\"#000000\">squared_error = 18.829</text>\n<text text-anchor=\"middle\" x=\"1150\" y=\"-111.8\" font-family=\"Helvetica,sans-Serif\" font-size=\"14.00\" fill=\"#000000\">samples = 61</text>\n<text text-anchor=\"middle\" x=\"1150\" y=\"-96.8\" font-family=\"Helvetica,sans-Serif\" font-size=\"14.00\" fill=\"#000000\">value = 12.748</text>\n</g>\n<!-- 8&#45;&gt;12 -->\n<g id=\"edge12\" class=\"edge\">\n<title>8&#45;&gt;12</title>\n<path fill=\"none\" stroke=\"#000000\" d=\"M955.8456,-195.373C987.3633,-183.6244 1023.3022,-170.2278 1055.6203,-158.1809\"/>\n<polygon fill=\"#000000\" stroke=\"#000000\" points=\"1056.9297,-161.4282 1065.0774,-154.6557 1054.4847,-154.8691 1056.9297,-161.4282\"/>\n</g>\n<!-- 10 -->\n<g id=\"node11\" class=\"node\">\n<title>10</title>\n<polygon fill=\"#f8dfcd\" stroke=\"#000000\" points=\"860.5,-53 699.5,-53 699.5,0 860.5,0 860.5,-53\"/>\n<text text-anchor=\"middle\" x=\"780\" y=\"-37.8\" font-family=\"Helvetica,sans-Serif\" font-size=\"14.00\" fill=\"#000000\">squared_error = 9.139</text>\n<text text-anchor=\"middle\" x=\"780\" y=\"-22.8\" font-family=\"Helvetica,sans-Serif\" font-size=\"14.00\" fill=\"#000000\">samples = 96</text>\n<text text-anchor=\"middle\" x=\"780\" y=\"-7.8\" font-family=\"Helvetica,sans-Serif\" font-size=\"14.00\" fill=\"#000000\">value = 20.824</text>\n</g>\n<!-- 9&#45;&gt;10 -->\n<g id=\"edge10\" class=\"edge\">\n<title>9&#45;&gt;10</title>\n<path fill=\"none\" stroke=\"#000000\" d=\"M838.9168,-88.9777C830.2817,-79.8207 820.9386,-69.9129 812.2922,-60.744\"/>\n<polygon fill=\"#000000\" stroke=\"#000000\" points=\"814.6311,-58.1226 805.224,-53.2485 809.5383,-62.9251 814.6311,-58.1226\"/>\n</g>\n<!-- 11 -->\n<g id=\"node12\" class=\"node\">\n<title>11</title>\n<polygon fill=\"#fbeadf\" stroke=\"#000000\" points=\"1047.5,-53 878.5,-53 878.5,0 1047.5,0 1047.5,-53\"/>\n<text text-anchor=\"middle\" x=\"963\" y=\"-37.8\" font-family=\"Helvetica,sans-Serif\" font-size=\"14.00\" fill=\"#000000\">squared_error = 10.576</text>\n<text text-anchor=\"middle\" x=\"963\" y=\"-22.8\" font-family=\"Helvetica,sans-Serif\" font-size=\"14.00\" fill=\"#000000\">samples = 61</text>\n<text text-anchor=\"middle\" x=\"963\" y=\"-7.8\" font-family=\"Helvetica,sans-Serif\" font-size=\"14.00\" fill=\"#000000\">value = 17.262</text>\n</g>\n<!-- 9&#45;&gt;11 -->\n<g id=\"edge11\" class=\"edge\">\n<title>9&#45;&gt;11</title>\n<path fill=\"none\" stroke=\"#000000\" d=\"M903.4358,-88.9777C912.1657,-79.8207 921.6115,-69.9129 930.3529,-60.744\"/>\n<polygon fill=\"#000000\" stroke=\"#000000\" points=\"933.1318,-62.9014 937.4989,-53.2485 928.0653,-58.0712 933.1318,-62.9014\"/>\n</g>\n<!-- 13 -->\n<g id=\"node14\" class=\"node\">\n<title>13</title>\n<polygon fill=\"#fbebdf\" stroke=\"#000000\" points=\"1234.5,-53 1065.5,-53 1065.5,0 1234.5,0 1234.5,-53\"/>\n<text text-anchor=\"middle\" x=\"1150\" y=\"-37.8\" font-family=\"Helvetica,sans-Serif\" font-size=\"14.00\" fill=\"#000000\">squared_error = 12.244</text>\n<text text-anchor=\"middle\" x=\"1150\" y=\"-22.8\" font-family=\"Helvetica,sans-Serif\" font-size=\"14.00\" fill=\"#000000\">samples = 18</text>\n<text text-anchor=\"middle\" x=\"1150\" y=\"-7.8\" font-family=\"Helvetica,sans-Serif\" font-size=\"14.00\" fill=\"#000000\">value = 17.183</text>\n</g>\n<!-- 12&#45;&gt;13 -->\n<g id=\"edge13\" class=\"edge\">\n<title>12&#45;&gt;13</title>\n<path fill=\"none\" stroke=\"#000000\" d=\"M1150,-88.9777C1150,-80.7364 1150,-71.887 1150,-63.5153\"/>\n<polygon fill=\"#000000\" stroke=\"#000000\" points=\"1153.5001,-63.2484 1150,-53.2485 1146.5001,-63.2485 1153.5001,-63.2484\"/>\n</g>\n<!-- 14 -->\n<g id=\"node15\" class=\"node\">\n<title>14</title>\n<polygon fill=\"#ffffff\" stroke=\"#000000\" points=\"1413.5,-53 1252.5,-53 1252.5,0 1413.5,0 1413.5,-53\"/>\n<text text-anchor=\"middle\" x=\"1333\" y=\"-37.8\" font-family=\"Helvetica,sans-Serif\" font-size=\"14.00\" fill=\"#000000\">squared_error = 9.901</text>\n<text text-anchor=\"middle\" x=\"1333\" y=\"-22.8\" font-family=\"Helvetica,sans-Serif\" font-size=\"14.00\" fill=\"#000000\">samples = 43</text>\n<text text-anchor=\"middle\" x=\"1333\" y=\"-7.8\" font-family=\"Helvetica,sans-Serif\" font-size=\"14.00\" fill=\"#000000\">value = 10.891</text>\n</g>\n<!-- 12&#45;&gt;14 -->\n<g id=\"edge14\" class=\"edge\">\n<title>12&#45;&gt;14</title>\n<path fill=\"none\" stroke=\"#000000\" d=\"M1214.519,-88.9777C1233.7089,-78.8584 1254.6377,-67.8222 1273.493,-57.8794\"/>\n<polygon fill=\"#000000\" stroke=\"#000000\" points=\"1275.353,-60.8554 1282.5659,-53.095 1272.0878,-54.6636 1275.353,-60.8554\"/>\n</g>\n</g>\n</svg>\n"
          },
          "metadata": {},
          "execution_count": 78
        }
      ]
    },
    {
      "cell_type": "markdown",
      "source": [
        "# Task\n",
        "\n",
        "Print out the regression tree in text form. See this tutorial https://mljar.com/blog/visualize-decision-tree/ and scroll down to where it says \"Visualizing the Decision Tree in Regression Task\". The first example shows you how to print the tree in text form"
      ],
      "metadata": {
        "id": "k8x5cOdiYchd"
      }
    },
    {
      "cell_type": "code",
      "source": [
        "text_representation = tree.export_text(reg_tree)\n",
        "print(text_representation) #to do"
      ],
      "metadata": {
        "id": "5a_2HG7XJdD2",
        "outputId": "74377d81-5ba8-4318-bd74-dfd099d28c0b",
        "colab": {
          "base_uri": "https://localhost:8080/"
        }
      },
      "execution_count": 79,
      "outputs": [
        {
          "output_type": "stream",
          "name": "stdout",
          "text": [
            "|--- feature_12 <= 9.55\n",
            "|   |--- feature_5 <= 7.43\n",
            "|   |   |--- feature_7 <= 1.48\n",
            "|   |   |   |--- value: [50.00]\n",
            "|   |   |--- feature_7 >  1.48\n",
            "|   |   |   |--- value: [26.88]\n",
            "|   |--- feature_5 >  7.43\n",
            "|   |   |--- feature_5 <= 8.59\n",
            "|   |   |   |--- value: [45.54]\n",
            "|   |   |--- feature_5 >  8.59\n",
            "|   |   |   |--- value: [21.90]\n",
            "|--- feature_12 >  9.55\n",
            "|   |--- feature_12 <= 19.26\n",
            "|   |   |--- feature_12 <= 14.80\n",
            "|   |   |   |--- value: [20.82]\n",
            "|   |   |--- feature_12 >  14.80\n",
            "|   |   |   |--- value: [17.26]\n",
            "|   |--- feature_12 >  19.26\n",
            "|   |   |--- feature_4 <= 0.60\n",
            "|   |   |   |--- value: [17.18]\n",
            "|   |   |--- feature_4 >  0.60\n",
            "|   |   |   |--- value: [10.89]\n",
            "\n"
          ]
        }
      ]
    }
  ]
}